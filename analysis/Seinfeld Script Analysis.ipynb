{
 "cells": [
  {
   "cell_type": "code",
   "execution_count": 4,
   "id": "85720ca3",
   "metadata": {},
   "outputs": [],
   "source": [
    "import pandas as pd"
   ]
  },
  {
   "cell_type": "code",
   "execution_count": 5,
   "id": "7da16026",
   "metadata": {},
   "outputs": [],
   "source": [
    "df = pd.read_csv(\"Seinfeld_scripts.csv\")"
   ]
  },
  {
   "cell_type": "code",
   "execution_count": 4,
   "id": "89b6317e",
   "metadata": {},
   "outputs": [
    {
     "data": {
      "text/plain": [
       "<bound method NDFrame.head of        Unnamed: 0   Character  \\\n",
       "0               0       JERRY   \n",
       "1               1       JERRY   \n",
       "2               2      GEORGE   \n",
       "3               3       JERRY   \n",
       "4               4      GEORGE   \n",
       "...           ...         ...   \n",
       "54611       54611       JERRY   \n",
       "54612       54612  PRISONER 3   \n",
       "54613       54613       JERRY   \n",
       "54614       54614       GUARD   \n",
       "54615       54615       JERRY   \n",
       "\n",
       "                                                Dialogue  EpisodeNo    SEID  \\\n",
       "0      Do you know what this is all about? Do you kno...        1.0  S01E01   \n",
       "1      (pointing at Georges shirt) See, to me, that b...        1.0  S01E01   \n",
       "2                                       Are you through?        1.0  S01E01   \n",
       "3                 You do of course try on, when you buy?        1.0  S01E01   \n",
       "4      Yes, it was purple, I liked it, I dont actuall...        1.0  S01E01   \n",
       "...                                                  ...        ...     ...   \n",
       "54611    Grand theft auto - don't steal any of my jokes.       23.0  S09E23   \n",
       "54612                      You suck - I'm gonna cut you.       23.0  S09E23   \n",
       "54613  Hey, I don't come down to where you work, and ...       23.0  S09E23   \n",
       "54614   Alright, Seinfeld, that's it. Let's go. Come on.       23.0  S09E23   \n",
       "54615  Alright, hey, you've been great! See you in th...       23.0  S09E23   \n",
       "\n",
       "       Season  \n",
       "0         1.0  \n",
       "1         1.0  \n",
       "2         1.0  \n",
       "3         1.0  \n",
       "4         1.0  \n",
       "...       ...  \n",
       "54611     9.0  \n",
       "54612     9.0  \n",
       "54613     9.0  \n",
       "54614     9.0  \n",
       "54615     9.0  \n",
       "\n",
       "[54616 rows x 6 columns]>"
      ]
     },
     "execution_count": 4,
     "metadata": {},
     "output_type": "execute_result"
    }
   ],
   "source": [
    "df.head"
   ]
  },
  {
   "cell_type": "code",
   "execution_count": 6,
   "id": "d00825a7",
   "metadata": {},
   "outputs": [
    {
     "data": {
      "text/plain": [
       "(54616, 6)"
      ]
     },
     "execution_count": 6,
     "metadata": {},
     "output_type": "execute_result"
    }
   ],
   "source": [
    "df.shape"
   ]
  },
  {
   "cell_type": "code",
   "execution_count": 7,
   "id": "9536371a",
   "metadata": {},
   "outputs": [
    {
     "data": {
      "text/plain": [
       "Unnamed: 0      int64\n",
       "Character      object\n",
       "Dialogue       object\n",
       "EpisodeNo     float64\n",
       "SEID           object\n",
       "Season        float64\n",
       "dtype: object"
      ]
     },
     "execution_count": 7,
     "metadata": {},
     "output_type": "execute_result"
    }
   ],
   "source": [
    "df.dtypes"
   ]
  },
  {
   "cell_type": "code",
   "execution_count": 8,
   "id": "ab66b90e",
   "metadata": {},
   "outputs": [
    {
     "data": {
      "text/html": [
       "<div>\n",
       "<style scoped>\n",
       "    .dataframe tbody tr th:only-of-type {\n",
       "        vertical-align: middle;\n",
       "    }\n",
       "\n",
       "    .dataframe tbody tr th {\n",
       "        vertical-align: top;\n",
       "    }\n",
       "\n",
       "    .dataframe thead th {\n",
       "        text-align: right;\n",
       "    }\n",
       "</style>\n",
       "<table border=\"1\" class=\"dataframe\">\n",
       "  <thead>\n",
       "    <tr style=\"text-align: right;\">\n",
       "      <th></th>\n",
       "      <th>Unnamed: 0</th>\n",
       "      <th>Character</th>\n",
       "      <th>Dialogue</th>\n",
       "      <th>EpisodeNo</th>\n",
       "      <th>SEID</th>\n",
       "      <th>Season</th>\n",
       "      <th>words</th>\n",
       "    </tr>\n",
       "  </thead>\n",
       "  <tbody>\n",
       "    <tr>\n",
       "      <th>0</th>\n",
       "      <td>0</td>\n",
       "      <td>JERRY</td>\n",
       "      <td>Do you know what this is all about? Do you kno...</td>\n",
       "      <td>1.0</td>\n",
       "      <td>S01E01</td>\n",
       "      <td>1.0</td>\n",
       "      <td>189.0</td>\n",
       "    </tr>\n",
       "    <tr>\n",
       "      <th>1</th>\n",
       "      <td>1</td>\n",
       "      <td>JERRY</td>\n",
       "      <td>(pointing at Georges shirt) See, to me, that b...</td>\n",
       "      <td>1.0</td>\n",
       "      <td>S01E01</td>\n",
       "      <td>1.0</td>\n",
       "      <td>41.0</td>\n",
       "    </tr>\n",
       "    <tr>\n",
       "      <th>2</th>\n",
       "      <td>2</td>\n",
       "      <td>GEORGE</td>\n",
       "      <td>Are you through?</td>\n",
       "      <td>1.0</td>\n",
       "      <td>S01E01</td>\n",
       "      <td>1.0</td>\n",
       "      <td>3.0</td>\n",
       "    </tr>\n",
       "    <tr>\n",
       "      <th>3</th>\n",
       "      <td>3</td>\n",
       "      <td>JERRY</td>\n",
       "      <td>You do of course try on, when you buy?</td>\n",
       "      <td>1.0</td>\n",
       "      <td>S01E01</td>\n",
       "      <td>1.0</td>\n",
       "      <td>9.0</td>\n",
       "    </tr>\n",
       "    <tr>\n",
       "      <th>4</th>\n",
       "      <td>4</td>\n",
       "      <td>GEORGE</td>\n",
       "      <td>Yes, it was purple, I liked it, I dont actuall...</td>\n",
       "      <td>1.0</td>\n",
       "      <td>S01E01</td>\n",
       "      <td>1.0</td>\n",
       "      <td>14.0</td>\n",
       "    </tr>\n",
       "  </tbody>\n",
       "</table>\n",
       "</div>"
      ],
      "text/plain": [
       "   Unnamed: 0 Character                                           Dialogue  \\\n",
       "0           0     JERRY  Do you know what this is all about? Do you kno...   \n",
       "1           1     JERRY  (pointing at Georges shirt) See, to me, that b...   \n",
       "2           2    GEORGE                                   Are you through?   \n",
       "3           3     JERRY             You do of course try on, when you buy?   \n",
       "4           4    GEORGE  Yes, it was purple, I liked it, I dont actuall...   \n",
       "\n",
       "   EpisodeNo    SEID  Season  words  \n",
       "0        1.0  S01E01     1.0  189.0  \n",
       "1        1.0  S01E01     1.0   41.0  \n",
       "2        1.0  S01E01     1.0    3.0  \n",
       "3        1.0  S01E01     1.0    9.0  \n",
       "4        1.0  S01E01     1.0   14.0  "
      ]
     },
     "execution_count": 8,
     "metadata": {},
     "output_type": "execute_result"
    }
   ],
   "source": [
    "df['words'] = df['Dialogue'].str.count(' ') + 1\n",
    "df.head()"
   ]
  },
  {
   "cell_type": "code",
   "execution_count": 9,
   "id": "42f5c77d",
   "metadata": {},
   "outputs": [
    {
     "data": {
      "text/plain": [
       "Character\n",
       "JERRY           147430.0\n",
       "GEORGE          107049.0\n",
       "ELAINE           74642.0\n",
       "KRAMER           70304.0\n",
       "NEWMAN            7069.0\n",
       "FRANK             4894.0\n",
       "MORTY             4748.0\n",
       "HELEN             3401.0\n",
       "PETERMAN          2907.0\n",
       "SUSAN             2880.0\n",
       "ESTELLE           2421.0\n",
       "STEINBRENNER      2213.0\n",
       "Name: words, dtype: float64"
      ]
     },
     "execution_count": 9,
     "metadata": {},
     "output_type": "execute_result"
    }
   ],
   "source": [
    "df.groupby('Character') \\\n",
    "    .words \\\n",
    "    .sum() \\\n",
    "    .sort_values(ascending=False) \\\n",
    "    .head(12)"
   ]
  },
  {
   "cell_type": "code",
   "execution_count": 10,
   "id": "e15f53f8",
   "metadata": {},
   "outputs": [
    {
     "data": {
      "text/plain": [
       "Season\n",
       "1.0    16511.0\n",
       "2.0    37235.0\n",
       "3.0    67968.0\n",
       "4.0    74172.0\n",
       "5.0    71418.0\n",
       "6.0    67962.0\n",
       "7.0    75209.0\n",
       "8.0    65795.0\n",
       "9.0    70015.0\n",
       "Name: words, dtype: float64"
      ]
     },
     "execution_count": 10,
     "metadata": {},
     "output_type": "execute_result"
    }
   ],
   "source": [
    "Total_words = df.groupby(by='Season').words.sum()\n",
    "Total_words"
   ]
  },
  {
   "cell_type": "code",
   "execution_count": 11,
   "id": "e4f37a97",
   "metadata": {
    "scrolled": true
   },
   "outputs": [
    {
     "data": {
      "text/plain": [
       "Season\n",
       "1.0     8888.0\n",
       "2.0    14690.0\n",
       "3.0    20936.0\n",
       "4.0    21419.0\n",
       "5.0    18103.0\n",
       "6.0    17239.0\n",
       "7.0    16631.0\n",
       "8.0    14348.0\n",
       "9.0    15176.0\n",
       "Name: words, dtype: float64"
      ]
     },
     "execution_count": 11,
     "metadata": {},
     "output_type": "execute_result"
    }
   ],
   "source": [
    "Jerry_word = df[(df.Character == \"JERRY\")].groupby(by='Season').words.sum() \n",
    "Jerry_word"
   ]
  },
  {
   "cell_type": "code",
   "execution_count": 12,
   "id": "2565c4f1",
   "metadata": {},
   "outputs": [],
   "source": [
    "Jerry_words = df[df.Character.str.startswith(\"JERRY\")].groupby(by='Season').words.sum() "
   ]
  },
  {
   "cell_type": "code",
   "execution_count": 13,
   "id": "475176ed",
   "metadata": {},
   "outputs": [
    {
     "data": {
      "text/plain": [
       "False    39636\n",
       "True     14980\n",
       "Name: Character, dtype: int64"
      ]
     },
     "execution_count": 13,
     "metadata": {},
     "output_type": "execute_result"
    }
   ],
   "source": [
    "df['Character'].str.startswith(\"JERRY\").value_counts()"
   ]
  },
  {
   "cell_type": "code",
   "execution_count": 14,
   "id": "cd33776d",
   "metadata": {},
   "outputs": [
    {
     "data": {
      "text/plain": [
       "JERRY    14786\n",
       "Name: Character, dtype: int64"
      ]
     },
     "execution_count": 14,
     "metadata": {},
     "output_type": "execute_result"
    }
   ],
   "source": [
    "df[(df.Character == 'JERRY')].Character.value_counts()"
   ]
  },
  {
   "cell_type": "code",
   "execution_count": 15,
   "id": "caa48859",
   "metadata": {},
   "outputs": [
    {
     "data": {
      "text/plain": [
       "Season\n",
       "1.0    53.8\n",
       "2.0    39.5\n",
       "3.0    30.8\n",
       "4.0    28.9\n",
       "5.0    25.3\n",
       "6.0    25.4\n",
       "7.0    22.1\n",
       "8.0    21.8\n",
       "9.0    21.7\n",
       "Name: words, dtype: float64"
      ]
     },
     "execution_count": 15,
     "metadata": {},
     "output_type": "execute_result"
    }
   ],
   "source": [
    "(Jerry_word / Total_words).round(3)*100"
   ]
  },
  {
   "cell_type": "code",
   "execution_count": 16,
   "id": "6a7d1a71",
   "metadata": {},
   "outputs": [
    {
     "data": {
      "text/plain": [
       "Season\n",
       "1.0    54.1\n",
       "2.0    39.6\n",
       "3.0    31.4\n",
       "4.0    29.1\n",
       "5.0    25.6\n",
       "6.0    25.8\n",
       "7.0    22.4\n",
       "8.0    22.1\n",
       "9.0    21.7\n",
       "Name: words, dtype: float64"
      ]
     },
     "execution_count": 16,
     "metadata": {},
     "output_type": "execute_result"
    }
   ],
   "source": [
    "(Jerry_words / Total_words).round(3)*100"
   ]
  },
  {
   "cell_type": "code",
   "execution_count": 17,
   "id": "4b3cf2f8",
   "metadata": {},
   "outputs": [
    {
     "data": {
      "text/plain": [
       "Season\n",
       "1.0     50.0\n",
       "2.0     64.0\n",
       "3.0    421.0\n",
       "4.0    185.0\n",
       "5.0    181.0\n",
       "6.0    272.0\n",
       "7.0    210.0\n",
       "8.0    178.0\n",
       "9.0     35.0\n",
       "Name: words, dtype: float64"
      ]
     },
     "execution_count": 17,
     "metadata": {},
     "output_type": "execute_result"
    }
   ],
   "source": [
    "Jerry_words - Jerry_word"
   ]
  },
  {
   "cell_type": "code",
   "execution_count": 18,
   "id": "7dc13cc1",
   "metadata": {},
   "outputs": [
    {
     "data": {
      "text/plain": [
       "Season\n",
       "1.0     2889.0\n",
       "2.0     8605.0\n",
       "3.0    15004.0\n",
       "4.0    16252.0\n",
       "5.0    14279.0\n",
       "6.0    11921.0\n",
       "7.0    13911.0\n",
       "8.0    11129.0\n",
       "9.0    13059.0\n",
       "Name: words, dtype: float64"
      ]
     },
     "execution_count": 18,
     "metadata": {},
     "output_type": "execute_result"
    }
   ],
   "source": [
    "George_word = df[(df.Character == 'GEORGE')].groupby(by='Season').words.sum() \n",
    "George_word"
   ]
  },
  {
   "cell_type": "code",
   "execution_count": 19,
   "id": "9a6f25e2",
   "metadata": {},
   "outputs": [
    {
     "data": {
      "text/plain": [
       "Season\n",
       "1.0     2916.0\n",
       "2.0     8659.0\n",
       "3.0    15126.0\n",
       "4.0    16534.0\n",
       "5.0    14394.0\n",
       "6.0    12044.0\n",
       "7.0    13934.0\n",
       "8.0    11227.0\n",
       "9.0    13087.0\n",
       "Name: words, dtype: float64"
      ]
     },
     "execution_count": 19,
     "metadata": {},
     "output_type": "execute_result"
    }
   ],
   "source": [
    "George_words = df[df.Character.str.startswith(\"GEORGE\")].groupby(by='Season').words.sum() \n",
    "George_words"
   ]
  },
  {
   "cell_type": "code",
   "execution_count": 20,
   "id": "4feeb573",
   "metadata": {},
   "outputs": [
    {
     "data": {
      "text/plain": [
       "Season\n",
       "1.0    0.18\n",
       "2.0    0.23\n",
       "3.0    0.22\n",
       "4.0    0.22\n",
       "5.0    0.20\n",
       "6.0    0.18\n",
       "7.0    0.19\n",
       "8.0    0.17\n",
       "9.0    0.19\n",
       "Name: words, dtype: float64"
      ]
     },
     "execution_count": 20,
     "metadata": {},
     "output_type": "execute_result"
    }
   ],
   "source": [
    "(George_words / Total_words).round(2)"
   ]
  },
  {
   "cell_type": "code",
   "execution_count": 21,
   "id": "ed500b00",
   "metadata": {},
   "outputs": [
    {
     "data": {
      "text/plain": [
       "Season\n",
       "1.0    17.5\n",
       "2.0    23.1\n",
       "3.0    22.1\n",
       "4.0    21.9\n",
       "5.0    20.0\n",
       "6.0    17.5\n",
       "7.0    18.5\n",
       "8.0    16.9\n",
       "9.0    18.7\n",
       "Name: words, dtype: float64"
      ]
     },
     "execution_count": 21,
     "metadata": {},
     "output_type": "execute_result"
    }
   ],
   "source": [
    "(George_word / Total_words).round(3)*100"
   ]
  },
  {
   "cell_type": "code",
   "execution_count": 22,
   "id": "288a3a42",
   "metadata": {},
   "outputs": [
    {
     "data": {
      "text/plain": [
       "Season\n",
       "1.0      825.0\n",
       "2.0     2942.0\n",
       "3.0     7656.0\n",
       "4.0     8273.0\n",
       "5.0     8128.0\n",
       "6.0    10100.0\n",
       "7.0    10164.0\n",
       "8.0    11138.0\n",
       "9.0    11709.0\n",
       "Name: words, dtype: float64"
      ]
     },
     "execution_count": 22,
     "metadata": {},
     "output_type": "execute_result"
    }
   ],
   "source": [
    "Kramer_words = df[df.Character.str.startswith(\"KRAMER\")].groupby(by='Season').words.sum() \n",
    "Kramer_words"
   ]
  },
  {
   "cell_type": "code",
   "execution_count": 23,
   "id": "74d43401",
   "metadata": {},
   "outputs": [
    {
     "data": {
      "text/plain": [
       "Season\n",
       "1.0     5.0\n",
       "2.0     7.9\n",
       "3.0    11.3\n",
       "4.0    11.2\n",
       "5.0    11.4\n",
       "6.0    14.9\n",
       "7.0    13.5\n",
       "8.0    16.9\n",
       "9.0    16.7\n",
       "Name: words, dtype: float64"
      ]
     },
     "execution_count": 23,
     "metadata": {},
     "output_type": "execute_result"
    }
   ],
   "source": [
    "(Kramer_words / Total_words).round(3)*100"
   ]
  },
  {
   "cell_type": "code",
   "execution_count": 24,
   "id": "ce8ee526",
   "metadata": {},
   "outputs": [
    {
     "data": {
      "text/plain": [
       "Season\n",
       "1.0     1548.0\n",
       "2.0     5250.0\n",
       "3.0     9759.0\n",
       "4.0     8730.0\n",
       "5.0    10230.0\n",
       "6.0     9796.0\n",
       "7.0    10303.0\n",
       "8.0    10069.0\n",
       "9.0    10297.0\n",
       "Name: words, dtype: float64"
      ]
     },
     "execution_count": 24,
     "metadata": {},
     "output_type": "execute_result"
    }
   ],
   "source": [
    "Elaine_words = df[df.Character.str.startswith(\"ELAINE\")].groupby(by='Season').words.sum() \n",
    "Elaine_words"
   ]
  },
  {
   "cell_type": "code",
   "execution_count": 25,
   "id": "33d5212e",
   "metadata": {},
   "outputs": [
    {
     "data": {
      "text/plain": [
       "Season\n",
       "1.0     9.4\n",
       "2.0    14.1\n",
       "3.0    14.4\n",
       "4.0    11.8\n",
       "5.0    14.3\n",
       "6.0    14.4\n",
       "7.0    13.7\n",
       "8.0    15.3\n",
       "9.0    14.7\n",
       "Name: words, dtype: float64"
      ]
     },
     "execution_count": 25,
     "metadata": {},
     "output_type": "execute_result"
    }
   ],
   "source": [
    "(Elaine_words / Total_words).round(3)*100"
   ]
  },
  {
   "cell_type": "code",
   "execution_count": 26,
   "id": "f358ccd2",
   "metadata": {
    "scrolled": true
   },
   "outputs": [
    {
     "data": {
      "text/plain": [
       "Season\n",
       "2.0      12.0\n",
       "3.0     457.0\n",
       "4.0    1190.0\n",
       "5.0     726.0\n",
       "6.0     709.0\n",
       "7.0    1532.0\n",
       "8.0    1359.0\n",
       "9.0    1171.0\n",
       "Name: words, dtype: float64"
      ]
     },
     "execution_count": 26,
     "metadata": {},
     "output_type": "execute_result"
    }
   ],
   "source": [
    "Newman_words = df[df.Character.str.startswith(\"NEWMAN\")].groupby(by='Season').words.sum() \n",
    "Newman_words"
   ]
  },
  {
   "cell_type": "code",
   "execution_count": 27,
   "id": "e7387d3d",
   "metadata": {},
   "outputs": [
    {
     "data": {
      "text/plain": [
       "Season\n",
       "1.0    NaN\n",
       "2.0    0.0\n",
       "3.0    0.7\n",
       "4.0    1.6\n",
       "5.0    1.0\n",
       "6.0    1.0\n",
       "7.0    2.0\n",
       "8.0    2.1\n",
       "9.0    1.7\n",
       "Name: words, dtype: float64"
      ]
     },
     "execution_count": 27,
     "metadata": {},
     "output_type": "execute_result"
    }
   ],
   "source": [
    "(Newman_words / Total_words).round(3)*100"
   ]
  },
  {
   "cell_type": "code",
   "execution_count": 28,
   "id": "4f29eed0",
   "metadata": {},
   "outputs": [
    {
     "data": {
      "text/plain": [
       "Season\n",
       "1.0    14149.0\n",
       "2.0    31397.0\n",
       "3.0    52861.0\n",
       "4.0    54328.0\n",
       "5.0    50557.0\n",
       "6.0    48776.0\n",
       "7.0    50808.0\n",
       "8.0    46486.0\n",
       "9.0    50063.0\n",
       "Name: words, dtype: float64"
      ]
     },
     "execution_count": 28,
     "metadata": {},
     "output_type": "execute_result"
    }
   ],
   "source": [
    "Big_4 = df[(df.Character == 'JERRY') | (df.Character == 'GEORGE') | (df.Character == 'ELAINE') | (df.Character == 'KRAMER')].groupby(by='Season').words.sum()\n",
    "Big_4"
   ]
  },
  {
   "cell_type": "code",
   "execution_count": 29,
   "id": "85818d23",
   "metadata": {},
   "outputs": [
    {
     "data": {
      "text/plain": [
       "Season\n",
       "1.0    85.7\n",
       "2.0    84.3\n",
       "3.0    77.8\n",
       "4.0    73.2\n",
       "5.0    70.8\n",
       "6.0    71.8\n",
       "7.0    67.6\n",
       "8.0    70.7\n",
       "9.0    71.5\n",
       "Name: words, dtype: float64"
      ]
     },
     "execution_count": 29,
     "metadata": {},
     "output_type": "execute_result"
    }
   ],
   "source": [
    "(Big_4 / Total_words).round(3) * 100"
   ]
  },
  {
   "cell_type": "code",
   "execution_count": null,
   "id": "fc26f6bf",
   "metadata": {},
   "outputs": [],
   "source": []
  }
 ],
 "metadata": {
  "kernelspec": {
   "display_name": "Python 3 (ipykernel)",
   "language": "python",
   "name": "python3"
  },
  "language_info": {
   "codemirror_mode": {
    "name": "ipython",
    "version": 3
   },
   "file_extension": ".py",
   "mimetype": "text/x-python",
   "name": "python",
   "nbconvert_exporter": "python",
   "pygments_lexer": "ipython3",
   "version": "3.10.5"
  }
 },
 "nbformat": 4,
 "nbformat_minor": 5
}
